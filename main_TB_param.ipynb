{
 "cells": [
  {
   "cell_type": "code",
   "execution_count": 1,
   "metadata": {},
   "outputs": [],
   "source": [
    "import numpy as np\n",
    "import matplotlib.pyplot as plt\n",
    "import time\n",
    "\n",
    "from Tight_Binding.tight_binding.extract_parameter import input_data\n",
    "from Tight_Binding.tight_binding.extract_parameter import extract_parameter\n",
    "from Tight_Binding.tight_binding.hamiltonian import hamiltonian\n",
    "from Tight_Binding.tight_binding.hamiltonian import multiple_hamiltonian"
   ]
  },
  {
   "cell_type": "markdown",
   "metadata": {},
   "source": [
    "# Import Data"
   ]
  },
  {
   "cell_type": "code",
   "execution_count": 2,
   "metadata": {},
   "outputs": [],
   "source": [
    "loc_parameter = \"Data/SrNbO3/hr_files/srnbo3_hr_4x4x4.dat\"\n",
    "loc_atom_position = \"Data/SrNbO3/atomic_position.csv\"\n",
    "loc_orbital_index = \"Data/SrNbO3/orbital_index.csv\""
   ]
  },
  {
   "cell_type": "code",
   "execution_count": 3,
   "metadata": {},
   "outputs": [],
   "source": [
    "parameter = input_data(loc_parameter, loc_atom_position, loc_orbital_index, \n",
    "           a = 4.089,\n",
    "           b = 4.089,\n",
    "           c = 4.089)"
   ]
  },
  {
   "cell_type": "code",
   "execution_count": 4,
   "metadata": {},
   "outputs": [
    {
     "data": {
      "text/html": [
       "<div>\n",
       "<style scoped>\n",
       "    .dataframe tbody tr th:only-of-type {\n",
       "        vertical-align: middle;\n",
       "    }\n",
       "\n",
       "    .dataframe tbody tr th {\n",
       "        vertical-align: top;\n",
       "    }\n",
       "\n",
       "    .dataframe thead th {\n",
       "        text-align: right;\n",
       "    }\n",
       "</style>\n",
       "<table border=\"1\" class=\"dataframe\">\n",
       "  <thead>\n",
       "    <tr style=\"text-align: right;\">\n",
       "      <th></th>\n",
       "      <th>X</th>\n",
       "      <th>Y</th>\n",
       "      <th>Z</th>\n",
       "      <th>A</th>\n",
       "      <th>B</th>\n",
       "      <th>Re</th>\n",
       "      <th>Im</th>\n",
       "    </tr>\n",
       "  </thead>\n",
       "  <tbody>\n",
       "    <tr>\n",
       "      <th>0</th>\n",
       "      <td>-2</td>\n",
       "      <td>-2</td>\n",
       "      <td>-2</td>\n",
       "      <td>1</td>\n",
       "      <td>1</td>\n",
       "      <td>-0.002093</td>\n",
       "      <td>-0.000000</td>\n",
       "    </tr>\n",
       "    <tr>\n",
       "      <th>1</th>\n",
       "      <td>-2</td>\n",
       "      <td>-2</td>\n",
       "      <td>-2</td>\n",
       "      <td>2</td>\n",
       "      <td>1</td>\n",
       "      <td>-0.003924</td>\n",
       "      <td>-0.002397</td>\n",
       "    </tr>\n",
       "    <tr>\n",
       "      <th>2</th>\n",
       "      <td>-2</td>\n",
       "      <td>-2</td>\n",
       "      <td>-2</td>\n",
       "      <td>3</td>\n",
       "      <td>1</td>\n",
       "      <td>0.001737</td>\n",
       "      <td>0.001976</td>\n",
       "    </tr>\n",
       "    <tr>\n",
       "      <th>3</th>\n",
       "      <td>-2</td>\n",
       "      <td>-2</td>\n",
       "      <td>-2</td>\n",
       "      <td>4</td>\n",
       "      <td>1</td>\n",
       "      <td>-0.002321</td>\n",
       "      <td>-0.000058</td>\n",
       "    </tr>\n",
       "    <tr>\n",
       "      <th>4</th>\n",
       "      <td>-2</td>\n",
       "      <td>-2</td>\n",
       "      <td>-2</td>\n",
       "      <td>5</td>\n",
       "      <td>1</td>\n",
       "      <td>0.001143</td>\n",
       "      <td>-0.004803</td>\n",
       "    </tr>\n",
       "  </tbody>\n",
       "</table>\n",
       "</div>"
      ],
      "text/plain": [
       "   X  Y  Z  A  B        Re        Im\n",
       "0 -2 -2 -2  1  1 -0.002093 -0.000000\n",
       "1 -2 -2 -2  2  1 -0.003924 -0.002397\n",
       "2 -2 -2 -2  3  1  0.001737  0.001976\n",
       "3 -2 -2 -2  4  1 -0.002321 -0.000058\n",
       "4 -2 -2 -2  5  1  0.001143 -0.004803"
      ]
     },
     "execution_count": 4,
     "metadata": {},
     "output_type": "execute_result"
    }
   ],
   "source": [
    "parameter.get_parameter_TB().head()"
   ]
  },
  {
   "cell_type": "code",
   "execution_count": 5,
   "metadata": {},
   "outputs": [
    {
     "data": {
      "text/html": [
       "<div>\n",
       "<style scoped>\n",
       "    .dataframe tbody tr th:only-of-type {\n",
       "        vertical-align: middle;\n",
       "    }\n",
       "\n",
       "    .dataframe tbody tr th {\n",
       "        vertical-align: top;\n",
       "    }\n",
       "\n",
       "    .dataframe thead th {\n",
       "        text-align: right;\n",
       "    }\n",
       "</style>\n",
       "<table border=\"1\" class=\"dataframe\">\n",
       "  <thead>\n",
       "    <tr style=\"text-align: right;\">\n",
       "      <th></th>\n",
       "      <th>X</th>\n",
       "      <th>Y</th>\n",
       "      <th>Z</th>\n",
       "      <th>A</th>\n",
       "      <th>B</th>\n",
       "      <th>Re</th>\n",
       "      <th>Im</th>\n",
       "      <th>Rx</th>\n",
       "      <th>Ry</th>\n",
       "      <th>Rz</th>\n",
       "    </tr>\n",
       "  </thead>\n",
       "  <tbody>\n",
       "    <tr>\n",
       "      <th>0</th>\n",
       "      <td>-2</td>\n",
       "      <td>-2</td>\n",
       "      <td>-2</td>\n",
       "      <td>1</td>\n",
       "      <td>1</td>\n",
       "      <td>-0.002093</td>\n",
       "      <td>-0.000000</td>\n",
       "      <td>-8.178</td>\n",
       "      <td>-8.178</td>\n",
       "      <td>-8.178</td>\n",
       "    </tr>\n",
       "    <tr>\n",
       "      <th>1</th>\n",
       "      <td>-2</td>\n",
       "      <td>-2</td>\n",
       "      <td>-1</td>\n",
       "      <td>1</td>\n",
       "      <td>1</td>\n",
       "      <td>-0.001895</td>\n",
       "      <td>0.001362</td>\n",
       "      <td>-8.178</td>\n",
       "      <td>-8.178</td>\n",
       "      <td>-4.089</td>\n",
       "    </tr>\n",
       "    <tr>\n",
       "      <th>2</th>\n",
       "      <td>-2</td>\n",
       "      <td>-2</td>\n",
       "      <td>0</td>\n",
       "      <td>1</td>\n",
       "      <td>1</td>\n",
       "      <td>-0.003405</td>\n",
       "      <td>0.000000</td>\n",
       "      <td>-8.178</td>\n",
       "      <td>-8.178</td>\n",
       "      <td>0.000</td>\n",
       "    </tr>\n",
       "    <tr>\n",
       "      <th>3</th>\n",
       "      <td>-2</td>\n",
       "      <td>-2</td>\n",
       "      <td>1</td>\n",
       "      <td>1</td>\n",
       "      <td>1</td>\n",
       "      <td>-0.001895</td>\n",
       "      <td>-0.001362</td>\n",
       "      <td>-8.178</td>\n",
       "      <td>-8.178</td>\n",
       "      <td>4.089</td>\n",
       "    </tr>\n",
       "    <tr>\n",
       "      <th>4</th>\n",
       "      <td>-2</td>\n",
       "      <td>-2</td>\n",
       "      <td>2</td>\n",
       "      <td>1</td>\n",
       "      <td>1</td>\n",
       "      <td>-0.002093</td>\n",
       "      <td>-0.000000</td>\n",
       "      <td>-8.178</td>\n",
       "      <td>-8.178</td>\n",
       "      <td>8.178</td>\n",
       "    </tr>\n",
       "  </tbody>\n",
       "</table>\n",
       "</div>"
      ],
      "text/plain": [
       "   X  Y  Z  A  B        Re        Im     Rx     Ry     Rz\n",
       "0 -2 -2 -2  1  1 -0.002093 -0.000000 -8.178 -8.178 -8.178\n",
       "1 -2 -2 -1  1  1 -0.001895  0.001362 -8.178 -8.178 -4.089\n",
       "2 -2 -2  0  1  1 -0.003405  0.000000 -8.178 -8.178  0.000\n",
       "3 -2 -2  1  1  1 -0.001895 -0.001362 -8.178 -8.178  4.089\n",
       "4 -2 -2  2  1  1 -0.002093 -0.000000 -8.178 -8.178  8.178"
      ]
     },
     "execution_count": 5,
     "metadata": {},
     "output_type": "execute_result"
    }
   ],
   "source": [
    "input_hamiltonian = parameter.vec_lattice()\n",
    "input_hamiltonian.head()"
   ]
  },
  {
   "cell_type": "code",
   "execution_count": 104,
   "metadata": {},
   "outputs": [
    {
     "data": {
      "text/plain": [
       "array([[-2.   , -2.   , -2.   , ..., -8.178, -8.178, -8.178],\n",
       "       [-2.   , -2.   , -1.   , ..., -8.178, -8.178, -4.089],\n",
       "       [-2.   , -2.   ,  0.   , ..., -8.178, -8.178,  0.   ],\n",
       "       ...,\n",
       "       [ 2.   ,  2.   ,  0.   , ...,  8.178,  8.178,  0.   ],\n",
       "       [ 2.   ,  2.   ,  1.   , ...,  8.178,  8.178,  4.089],\n",
       "       [ 2.   ,  2.   ,  2.   , ...,  8.178,  8.178,  8.178]])"
      ]
     },
     "execution_count": 104,
     "metadata": {},
     "output_type": "execute_result"
    }
   ],
   "source": [
    "matriks = input_hamiltonian.to_numpy()\n",
    "matriks"
   ]
  },
  {
   "cell_type": "code",
   "execution_count": 108,
   "metadata": {},
   "outputs": [],
   "source": [
    "k = np.array([2.0,2.0,2.0])\n",
    "\n",
    "hamiltonian = np.zeros(shape=(len(a.A.unique()), len(a.B.unique())),\n",
    "                        dtype=np.complex128)"
   ]
  },
  {
   "cell_type": "code",
   "execution_count": 123,
   "metadata": {},
   "outputs": [
    {
     "name": "stdout",
     "output_type": "stream",
     "text": [
      "0.47365903854370117 Detik\n",
      "(-0.1554659234998727+0.02814627140589869j) (-0.1554659234998727-0.028146271405898694j)\n"
     ]
    }
   ],
   "source": [
    "start = time.time()\n",
    "for i, A in enumerate(np.unique(matriks[:,3])):\n",
    "    for j, B in enumerate(np.unique(matriks[:,4])):\n",
    "        df = matriks[(matriks[:,3]==A) & (matriks[:,4]==B)]\n",
    "        \n",
    "        R = np.array([df[:,7], df[:,8], df[:,9]])\n",
    "        sum_H = (df[:,5] + df[:,6]*1j)*np.exp(-1j*np.dot(k,R))\n",
    "        sum_H = sum_H.sum()\n",
    "        \n",
    "        hamiltonian[i,j] = sum_H\n",
    "print(time.time() - start, \"Detik\")\n",
    "\n",
    "print(hamiltonian[3,13], hamiltonian[13,3])"
   ]
  },
  {
   "cell_type": "code",
   "execution_count": 124,
   "metadata": {},
   "outputs": [
    {
     "name": "stdout",
     "output_type": "stream",
     "text": [
      "2.93554425239563 Detik\n",
      "(-0.1554659234998727+0.02814627140589869j) (-0.1554659234998727-0.028146271405898694j)\n"
     ]
    }
   ],
   "source": [
    "a = input_hamiltonian\n",
    "\n",
    "start = time.time()\n",
    "for i, A in enumerate(a.A.unique()):\n",
    "    for j, B in enumerate(a.B.unique()):\n",
    "        filter_A = a.A == A\n",
    "        filter_B = a.B == B\n",
    "        df = a[filter_A & filter_B]\n",
    "\n",
    "        R = np.array([df.Rx, df.Ry, df.Rz])\n",
    "        sum_H = (df.Re + df.Im*1j)*np.exp(-1j*np.dot(k,R))\n",
    "        sum_H = sum_H.sum()\n",
    "\n",
    "        hamiltonian[i,j] = sum_H\n",
    "print(time.time() - start, \"Detik\")\n",
    "\n",
    "print(hamiltonian[3,13], hamiltonian[13,3])"
   ]
  },
  {
   "cell_type": "markdown",
   "metadata": {},
   "source": [
    "# Future Improvements"
   ]
  },
  {
   "cell_type": "raw",
   "metadata": {},
   "source": [
    "k = [2.0,2.0,2.0]\n",
    "\n",
    "start = time.time()\n",
    "ham_before = hamiltonian(k, input_hamiltonian)\n",
    "print(time.time() - start, \"Detik\")\n",
    "\n",
    "print(ham_before[3,13], ham_before[13,3])"
   ]
  },
  {
   "cell_type": "raw",
   "metadata": {},
   "source": [
    "k = [2.0,2.0,2.0]\n",
    "\n",
    "start = time.time()\n",
    "ham_after = hamiltonian(k, input_hamiltonian)\n",
    "print(time.time() - start, \"Detik\")\n",
    "\n",
    "print(ham_after[3,13], ham_after[13,3])"
   ]
  },
  {
   "cell_type": "markdown",
   "metadata": {},
   "source": [
    "# Multiple kpoints"
   ]
  },
  {
   "cell_type": "code",
   "execution_count": 6,
   "metadata": {},
   "outputs": [],
   "source": [
    "k_grid = np.ones(shape=(8,3))"
   ]
  },
  {
   "cell_type": "code",
   "execution_count": 9,
   "metadata": {},
   "outputs": [
    {
     "name": "stdout",
     "output_type": "stream",
     "text": [
      "5.4796247482299805 Detik\n",
      "(0.01935444999240512+0.11637411719308206j) (0.019354449992405105-0.11637411719308209j)\n"
     ]
    }
   ],
   "source": [
    "start = time.time()\n",
    "ham_1 = multiple_hamiltonian(k_grid, input_hamiltonian, hamiltonian)\n",
    "print(time.time() - start, \"Detik\")\n",
    "\n",
    "print(ham_1[3,3,13], ham_1[3,13,3])"
   ]
  },
  {
   "cell_type": "code",
   "execution_count": 13,
   "metadata": {},
   "outputs": [
    {
     "name": "stdout",
     "output_type": "stream",
     "text": [
      "1.4097955226898193 Detik\n",
      "(0.01935444999240512+0.11637411719308206j) (0.019354449992405105-0.11637411719308209j)\n"
     ]
    }
   ],
   "source": [
    "start = time.time()\n",
    "ham_2 = multiple_hamiltonian(k_grid, input_hamiltonian, hamiltonian)\n",
    "print(time.time() - start, \"Detik\")\n",
    "\n",
    "print(ham_2[3,3,13], ham_2[3,13,3])"
   ]
  }
 ],
 "metadata": {
  "kernelspec": {
   "display_name": "Python 3",
   "language": "python",
   "name": "python3"
  },
  "language_info": {
   "codemirror_mode": {
    "name": "ipython",
    "version": 3
   },
   "file_extension": ".py",
   "mimetype": "text/x-python",
   "name": "python",
   "nbconvert_exporter": "python",
   "pygments_lexer": "ipython3",
   "version": "3.6.8"
  }
 },
 "nbformat": 4,
 "nbformat_minor": 4
}
