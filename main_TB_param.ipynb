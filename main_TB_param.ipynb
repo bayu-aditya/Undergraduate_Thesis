{
 "cells": [
  {
   "cell_type": "code",
   "execution_count": 1,
   "metadata": {},
   "outputs": [],
   "source": [
    "import numpy as np\n",
    "import matplotlib.pyplot as plt\n",
    "import time\n",
    "\n",
    "from Tight_Binding.tight_binding.extract_parameter import input_data\n",
    "from Tight_Binding.tight_binding.extract_parameter import extract_parameter\n",
    "from Tight_Binding.tight_binding.hamiltonian import hamiltonian\n",
    "from Tight_Binding.tight_binding.hamiltonian import multiple_hamiltonian"
   ]
  },
  {
   "cell_type": "markdown",
   "metadata": {},
   "source": [
    "# Import Data"
   ]
  },
  {
   "cell_type": "code",
   "execution_count": 2,
   "metadata": {},
   "outputs": [],
   "source": [
    "loc_parameter = \"Data/SrNbO3/hr_files/srnbo3_hr_4x4x4.dat\"\n",
    "loc_atom_position = \"Data/SrNbO3/atomic_position.csv\"\n",
    "loc_orbital_index = \"Data/SrNbO3/orbital_index.csv\""
   ]
  },
  {
   "cell_type": "code",
   "execution_count": 3,
   "metadata": {},
   "outputs": [],
   "source": [
    "parameter = input_data(loc_parameter, loc_atom_position, loc_orbital_index, \n",
    "           a = 4.089,\n",
    "           b = 4.089,\n",
    "           c = 4.089)"
   ]
  },
  {
   "cell_type": "code",
   "execution_count": 4,
   "metadata": {},
   "outputs": [
    {
     "data": {
      "text/html": [
       "<div>\n",
       "<style scoped>\n",
       "    .dataframe tbody tr th:only-of-type {\n",
       "        vertical-align: middle;\n",
       "    }\n",
       "\n",
       "    .dataframe tbody tr th {\n",
       "        vertical-align: top;\n",
       "    }\n",
       "\n",
       "    .dataframe thead th {\n",
       "        text-align: right;\n",
       "    }\n",
       "</style>\n",
       "<table border=\"1\" class=\"dataframe\">\n",
       "  <thead>\n",
       "    <tr style=\"text-align: right;\">\n",
       "      <th></th>\n",
       "      <th>X</th>\n",
       "      <th>Y</th>\n",
       "      <th>Z</th>\n",
       "      <th>A</th>\n",
       "      <th>B</th>\n",
       "      <th>Re</th>\n",
       "      <th>Im</th>\n",
       "    </tr>\n",
       "  </thead>\n",
       "  <tbody>\n",
       "    <tr>\n",
       "      <th>0</th>\n",
       "      <td>-7</td>\n",
       "      <td>-7</td>\n",
       "      <td>-7</td>\n",
       "      <td>1</td>\n",
       "      <td>1</td>\n",
       "      <td>0.000054</td>\n",
       "      <td>-0.000014</td>\n",
       "    </tr>\n",
       "    <tr>\n",
       "      <th>1</th>\n",
       "      <td>-7</td>\n",
       "      <td>-7</td>\n",
       "      <td>-7</td>\n",
       "      <td>2</td>\n",
       "      <td>1</td>\n",
       "      <td>0.000008</td>\n",
       "      <td>-0.000006</td>\n",
       "    </tr>\n",
       "    <tr>\n",
       "      <th>2</th>\n",
       "      <td>-7</td>\n",
       "      <td>-7</td>\n",
       "      <td>-7</td>\n",
       "      <td>3</td>\n",
       "      <td>1</td>\n",
       "      <td>-0.000063</td>\n",
       "      <td>0.000095</td>\n",
       "    </tr>\n",
       "    <tr>\n",
       "      <th>3</th>\n",
       "      <td>-7</td>\n",
       "      <td>-7</td>\n",
       "      <td>-7</td>\n",
       "      <td>4</td>\n",
       "      <td>1</td>\n",
       "      <td>-0.000006</td>\n",
       "      <td>-0.000074</td>\n",
       "    </tr>\n",
       "    <tr>\n",
       "      <th>4</th>\n",
       "      <td>-7</td>\n",
       "      <td>-7</td>\n",
       "      <td>-7</td>\n",
       "      <td>5</td>\n",
       "      <td>1</td>\n",
       "      <td>-0.000036</td>\n",
       "      <td>0.000030</td>\n",
       "    </tr>\n",
       "  </tbody>\n",
       "</table>\n",
       "</div>"
      ],
      "text/plain": [
       "   X  Y  Z  A  B        Re        Im\n",
       "0 -7 -7 -7  1  1  0.000054 -0.000014\n",
       "1 -7 -7 -7  2  1  0.000008 -0.000006\n",
       "2 -7 -7 -7  3  1 -0.000063  0.000095\n",
       "3 -7 -7 -7  4  1 -0.000006 -0.000074\n",
       "4 -7 -7 -7  5  1 -0.000036  0.000030"
      ]
     },
     "execution_count": 4,
     "metadata": {},
     "output_type": "execute_result"
    }
   ],
   "source": [
    "parameter.get_parameter_TB().head()"
   ]
  },
  {
   "cell_type": "code",
   "execution_count": 5,
   "metadata": {},
   "outputs": [
    {
     "data": {
      "text/html": [
       "<div>\n",
       "<style scoped>\n",
       "    .dataframe tbody tr th:only-of-type {\n",
       "        vertical-align: middle;\n",
       "    }\n",
       "\n",
       "    .dataframe tbody tr th {\n",
       "        vertical-align: top;\n",
       "    }\n",
       "\n",
       "    .dataframe thead th {\n",
       "        text-align: right;\n",
       "    }\n",
       "</style>\n",
       "<table border=\"1\" class=\"dataframe\">\n",
       "  <thead>\n",
       "    <tr style=\"text-align: right;\">\n",
       "      <th></th>\n",
       "      <th>X</th>\n",
       "      <th>Y</th>\n",
       "      <th>Z</th>\n",
       "      <th>A</th>\n",
       "      <th>B</th>\n",
       "      <th>Re</th>\n",
       "      <th>Im</th>\n",
       "      <th>Rx</th>\n",
       "      <th>Ry</th>\n",
       "      <th>Rz</th>\n",
       "    </tr>\n",
       "  </thead>\n",
       "  <tbody>\n",
       "    <tr>\n",
       "      <th>0</th>\n",
       "      <td>-7</td>\n",
       "      <td>-7</td>\n",
       "      <td>-7</td>\n",
       "      <td>1</td>\n",
       "      <td>1</td>\n",
       "      <td>0.000054</td>\n",
       "      <td>-0.000014</td>\n",
       "      <td>-28.623</td>\n",
       "      <td>-28.623</td>\n",
       "      <td>-28.623</td>\n",
       "    </tr>\n",
       "    <tr>\n",
       "      <th>1</th>\n",
       "      <td>-7</td>\n",
       "      <td>-7</td>\n",
       "      <td>-6</td>\n",
       "      <td>1</td>\n",
       "      <td>1</td>\n",
       "      <td>0.000041</td>\n",
       "      <td>-0.000020</td>\n",
       "      <td>-28.623</td>\n",
       "      <td>-28.623</td>\n",
       "      <td>-24.534</td>\n",
       "    </tr>\n",
       "    <tr>\n",
       "      <th>2</th>\n",
       "      <td>-7</td>\n",
       "      <td>-7</td>\n",
       "      <td>-5</td>\n",
       "      <td>1</td>\n",
       "      <td>1</td>\n",
       "      <td>0.000011</td>\n",
       "      <td>-0.000043</td>\n",
       "      <td>-28.623</td>\n",
       "      <td>-28.623</td>\n",
       "      <td>-20.445</td>\n",
       "    </tr>\n",
       "    <tr>\n",
       "      <th>3</th>\n",
       "      <td>-7</td>\n",
       "      <td>-7</td>\n",
       "      <td>-4</td>\n",
       "      <td>1</td>\n",
       "      <td>1</td>\n",
       "      <td>-0.000042</td>\n",
       "      <td>-0.000013</td>\n",
       "      <td>-28.623</td>\n",
       "      <td>-28.623</td>\n",
       "      <td>-16.356</td>\n",
       "    </tr>\n",
       "    <tr>\n",
       "      <th>4</th>\n",
       "      <td>-7</td>\n",
       "      <td>-7</td>\n",
       "      <td>-3</td>\n",
       "      <td>1</td>\n",
       "      <td>1</td>\n",
       "      <td>-0.000041</td>\n",
       "      <td>0.000011</td>\n",
       "      <td>-28.623</td>\n",
       "      <td>-28.623</td>\n",
       "      <td>-12.267</td>\n",
       "    </tr>\n",
       "  </tbody>\n",
       "</table>\n",
       "</div>"
      ],
      "text/plain": [
       "   X  Y  Z  A  B        Re        Im      Rx      Ry      Rz\n",
       "0 -7 -7 -7  1  1  0.000054 -0.000014 -28.623 -28.623 -28.623\n",
       "1 -7 -7 -6  1  1  0.000041 -0.000020 -28.623 -28.623 -24.534\n",
       "2 -7 -7 -5  1  1  0.000011 -0.000043 -28.623 -28.623 -20.445\n",
       "3 -7 -7 -4  1  1 -0.000042 -0.000013 -28.623 -28.623 -16.356\n",
       "4 -7 -7 -3  1  1 -0.000041  0.000011 -28.623 -28.623 -12.267"
      ]
     },
     "execution_count": 5,
     "metadata": {},
     "output_type": "execute_result"
    }
   ],
   "source": [
    "input_hamiltonian = parameter.vec_lattice()\n",
    "input_hamiltonian.head()"
   ]
  },
  {
   "cell_type": "markdown",
   "metadata": {},
   "source": [
    "# Future Improvements"
   ]
  },
  {
   "cell_type": "raw",
   "metadata": {},
   "source": [
    "k = [2.0,2.0,2.0]\n",
    "\n",
    "start = time.time()\n",
    "ham_before = hamiltonian(k, input_hamiltonian)\n",
    "print(time.time() - start, \"Detik\")\n",
    "\n",
    "print(ham_before[3,13], ham_before[13,3])"
   ]
  },
  {
   "cell_type": "raw",
   "metadata": {},
   "source": [
    "k = [2.0,2.0,2.0]\n",
    "\n",
    "start = time.time()\n",
    "ham_after = hamiltonian(k, input_hamiltonian)\n",
    "print(time.time() - start, \"Detik\")\n",
    "\n",
    "print(ham_after[3,13], ham_after[13,3])"
   ]
  },
  {
   "cell_type": "markdown",
   "metadata": {},
   "source": [
    "# Multiple kpoints"
   ]
  },
  {
   "cell_type": "code",
   "execution_count": 6,
   "metadata": {},
   "outputs": [],
   "source": [
    "k_grid = np.ones(shape=(8,3))"
   ]
  },
  {
   "cell_type": "markdown",
   "metadata": {},
   "source": [
    "## Before"
   ]
  },
  {
   "cell_type": "code",
   "execution_count": 7,
   "metadata": {},
   "outputs": [
    {
     "name": "stdout",
     "output_type": "stream",
     "text": [
      "24.39089298248291 Detik\n",
      "(0.019354449992405116+0.11637411719308205j) (0.01935444999240512-0.11637411719308215j)\n"
     ]
    }
   ],
   "source": [
    "start = time.time()\n",
    "ham_before = multiple_hamiltonian(k_grid, input_hamiltonian, hamiltonian)\n",
    "print(time.time() - start, \"Detik\")\n",
    "print(ham_before[3,3,13], ham_before[3,13,3])"
   ]
  },
  {
   "cell_type": "markdown",
   "metadata": {},
   "source": [
    "## After"
   ]
  },
  {
   "cell_type": "code",
   "execution_count": 8,
   "metadata": {},
   "outputs": [
    {
     "name": "stdout",
     "output_type": "stream",
     "text": [
      "6.834848165512085 Detik\n",
      "(0.01935444999240512+0.11637411719308206j) (0.019354449992405105-0.11637411719308209j)\n"
     ]
    }
   ],
   "source": [
    "start = time.time()\n",
    "ham_before = multiple_hamiltonian(k_grid, input_hamiltonian, hamiltonian)\n",
    "print(time.time() - start, \"Detik\")\n",
    "print(ham_before[3,3,13], ham_before[3,13,3])"
   ]
  }
 ],
 "metadata": {
  "kernelspec": {
   "display_name": "Python 3",
   "language": "python",
   "name": "python3"
  },
  "language_info": {
   "codemirror_mode": {
    "name": "ipython",
    "version": 3
   },
   "file_extension": ".py",
   "mimetype": "text/x-python",
   "name": "python",
   "nbconvert_exporter": "python",
   "pygments_lexer": "ipython3",
   "version": "3.6.7"
  }
 },
 "nbformat": 4,
 "nbformat_minor": 4
}
