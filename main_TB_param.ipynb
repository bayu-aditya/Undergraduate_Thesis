{
 "cells": [
  {
   "cell_type": "code",
   "execution_count": 1,
   "metadata": {},
   "outputs": [],
   "source": [
    "import numpy as np\n",
    "import matplotlib.pyplot as plt\n",
    "import time\n",
    "\n",
    "from Tight_Binding.tight_binding.extract_parameter import input_data\n",
    "from Tight_Binding.tight_binding.extract_parameter import extract_parameter\n",
    "from Tight_Binding.tight_binding.hamiltonian import hamiltonian\n",
    "from Tight_Binding.tight_binding.hamiltonian import multiple_hamiltonian"
   ]
  },
  {
   "cell_type": "code",
   "execution_count": 2,
   "metadata": {},
   "outputs": [],
   "source": [
    "from Tight_Binding.tight_binding.hamiltonian import hamiltonian_v2\n",
    "from Tight_Binding.tight_binding.hamiltonian import hamiltonian_v3"
   ]
  },
  {
   "cell_type": "markdown",
   "metadata": {},
   "source": [
    "# Import Data"
   ]
  },
  {
   "cell_type": "code",
   "execution_count": 3,
   "metadata": {},
   "outputs": [],
   "source": [
    "loc_parameter = \"Data/Sr4Nb4O12/hr_files/sr4nb4o12_hr.dat\"\n",
    "loc_atom_position = \"Data/Sr4Nb4O12/atomic_position.csv\"\n",
    "loc_orbital_index = \"Data/Sr4Nb4O12/orbital_index.csv\""
   ]
  },
  {
   "cell_type": "code",
   "execution_count": 4,
   "metadata": {},
   "outputs": [],
   "source": [
    "parameter = input_data(loc_parameter, loc_atom_position, loc_orbital_index, \n",
    "           a = 10.86909,\n",
    "           b = 5.763864449563357*10.86909,\n",
    "           c = 0.703931807842342*10.86909)"
   ]
  },
  {
   "cell_type": "code",
   "execution_count": 5,
   "metadata": {},
   "outputs": [
    {
     "data": {
      "text/html": [
       "<div>\n",
       "<style scoped>\n",
       "    .dataframe tbody tr th:only-of-type {\n",
       "        vertical-align: middle;\n",
       "    }\n",
       "\n",
       "    .dataframe tbody tr th {\n",
       "        vertical-align: top;\n",
       "    }\n",
       "\n",
       "    .dataframe thead th {\n",
       "        text-align: right;\n",
       "    }\n",
       "</style>\n",
       "<table border=\"1\" class=\"dataframe\">\n",
       "  <thead>\n",
       "    <tr style=\"text-align: right;\">\n",
       "      <th></th>\n",
       "      <th>X</th>\n",
       "      <th>Y</th>\n",
       "      <th>Z</th>\n",
       "      <th>A</th>\n",
       "      <th>B</th>\n",
       "      <th>Re</th>\n",
       "      <th>Im</th>\n",
       "    </tr>\n",
       "  </thead>\n",
       "  <tbody>\n",
       "    <tr>\n",
       "      <th>0</th>\n",
       "      <td>-3</td>\n",
       "      <td>-3</td>\n",
       "      <td>-3</td>\n",
       "      <td>1</td>\n",
       "      <td>1</td>\n",
       "      <td>-0.000552</td>\n",
       "      <td>0.000000</td>\n",
       "    </tr>\n",
       "    <tr>\n",
       "      <th>1</th>\n",
       "      <td>-3</td>\n",
       "      <td>-3</td>\n",
       "      <td>-3</td>\n",
       "      <td>2</td>\n",
       "      <td>1</td>\n",
       "      <td>0.001963</td>\n",
       "      <td>0.000773</td>\n",
       "    </tr>\n",
       "    <tr>\n",
       "      <th>2</th>\n",
       "      <td>-3</td>\n",
       "      <td>-3</td>\n",
       "      <td>-3</td>\n",
       "      <td>3</td>\n",
       "      <td>1</td>\n",
       "      <td>0.000304</td>\n",
       "      <td>-0.000521</td>\n",
       "    </tr>\n",
       "    <tr>\n",
       "      <th>3</th>\n",
       "      <td>-3</td>\n",
       "      <td>-3</td>\n",
       "      <td>-3</td>\n",
       "      <td>4</td>\n",
       "      <td>1</td>\n",
       "      <td>0.000057</td>\n",
       "      <td>-0.000251</td>\n",
       "    </tr>\n",
       "    <tr>\n",
       "      <th>4</th>\n",
       "      <td>-3</td>\n",
       "      <td>-3</td>\n",
       "      <td>-3</td>\n",
       "      <td>5</td>\n",
       "      <td>1</td>\n",
       "      <td>0.000500</td>\n",
       "      <td>0.000224</td>\n",
       "    </tr>\n",
       "  </tbody>\n",
       "</table>\n",
       "</div>"
      ],
      "text/plain": [
       "   X  Y  Z  A  B        Re        Im\n",
       "0 -3 -3 -3  1  1 -0.000552  0.000000\n",
       "1 -3 -3 -3  2  1  0.001963  0.000773\n",
       "2 -3 -3 -3  3  1  0.000304 -0.000521\n",
       "3 -3 -3 -3  4  1  0.000057 -0.000251\n",
       "4 -3 -3 -3  5  1  0.000500  0.000224"
      ]
     },
     "execution_count": 5,
     "metadata": {},
     "output_type": "execute_result"
    }
   ],
   "source": [
    "parameter.get_parameter_TB().head()"
   ]
  },
  {
   "cell_type": "code",
   "execution_count": 6,
   "metadata": {},
   "outputs": [
    {
     "data": {
      "text/html": [
       "<div>\n",
       "<style scoped>\n",
       "    .dataframe tbody tr th:only-of-type {\n",
       "        vertical-align: middle;\n",
       "    }\n",
       "\n",
       "    .dataframe tbody tr th {\n",
       "        vertical-align: top;\n",
       "    }\n",
       "\n",
       "    .dataframe thead th {\n",
       "        text-align: right;\n",
       "    }\n",
       "</style>\n",
       "<table border=\"1\" class=\"dataframe\">\n",
       "  <thead>\n",
       "    <tr style=\"text-align: right;\">\n",
       "      <th></th>\n",
       "      <th>X</th>\n",
       "      <th>Y</th>\n",
       "      <th>Z</th>\n",
       "      <th>A</th>\n",
       "      <th>B</th>\n",
       "      <th>Re</th>\n",
       "      <th>Im</th>\n",
       "      <th>Rx</th>\n",
       "      <th>Ry</th>\n",
       "      <th>Rz</th>\n",
       "    </tr>\n",
       "  </thead>\n",
       "  <tbody>\n",
       "    <tr>\n",
       "      <th>0</th>\n",
       "      <td>-3</td>\n",
       "      <td>-3</td>\n",
       "      <td>-3</td>\n",
       "      <td>1</td>\n",
       "      <td>1</td>\n",
       "      <td>-0.000552</td>\n",
       "      <td>0.000000</td>\n",
       "      <td>-32.60727</td>\n",
       "      <td>-187.943884</td>\n",
       "      <td>-22.953295</td>\n",
       "    </tr>\n",
       "    <tr>\n",
       "      <th>1</th>\n",
       "      <td>-3</td>\n",
       "      <td>-3</td>\n",
       "      <td>-2</td>\n",
       "      <td>1</td>\n",
       "      <td>1</td>\n",
       "      <td>-0.000232</td>\n",
       "      <td>-0.000032</td>\n",
       "      <td>-32.60727</td>\n",
       "      <td>-187.943884</td>\n",
       "      <td>-15.302196</td>\n",
       "    </tr>\n",
       "    <tr>\n",
       "      <th>2</th>\n",
       "      <td>-3</td>\n",
       "      <td>-3</td>\n",
       "      <td>-1</td>\n",
       "      <td>1</td>\n",
       "      <td>1</td>\n",
       "      <td>-0.000085</td>\n",
       "      <td>0.000092</td>\n",
       "      <td>-32.60727</td>\n",
       "      <td>-187.943884</td>\n",
       "      <td>-7.651098</td>\n",
       "    </tr>\n",
       "    <tr>\n",
       "      <th>3</th>\n",
       "      <td>-3</td>\n",
       "      <td>-3</td>\n",
       "      <td>0</td>\n",
       "      <td>1</td>\n",
       "      <td>1</td>\n",
       "      <td>-0.001114</td>\n",
       "      <td>0.000000</td>\n",
       "      <td>-32.60727</td>\n",
       "      <td>-187.943884</td>\n",
       "      <td>0.000000</td>\n",
       "    </tr>\n",
       "    <tr>\n",
       "      <th>4</th>\n",
       "      <td>-3</td>\n",
       "      <td>-3</td>\n",
       "      <td>1</td>\n",
       "      <td>1</td>\n",
       "      <td>1</td>\n",
       "      <td>-0.000085</td>\n",
       "      <td>-0.000092</td>\n",
       "      <td>-32.60727</td>\n",
       "      <td>-187.943884</td>\n",
       "      <td>7.651098</td>\n",
       "    </tr>\n",
       "  </tbody>\n",
       "</table>\n",
       "</div>"
      ],
      "text/plain": [
       "   X  Y  Z  A  B        Re        Im        Rx          Ry         Rz\n",
       "0 -3 -3 -3  1  1 -0.000552  0.000000 -32.60727 -187.943884 -22.953295\n",
       "1 -3 -3 -2  1  1 -0.000232 -0.000032 -32.60727 -187.943884 -15.302196\n",
       "2 -3 -3 -1  1  1 -0.000085  0.000092 -32.60727 -187.943884  -7.651098\n",
       "3 -3 -3  0  1  1 -0.001114  0.000000 -32.60727 -187.943884   0.000000\n",
       "4 -3 -3  1  1  1 -0.000085 -0.000092 -32.60727 -187.943884   7.651098"
      ]
     },
     "execution_count": 6,
     "metadata": {},
     "output_type": "execute_result"
    }
   ],
   "source": [
    "input_hamiltonian = parameter.vec_lattice()\n",
    "input_hamiltonian.head()"
   ]
  },
  {
   "cell_type": "code",
   "execution_count": 7,
   "metadata": {},
   "outputs": [
    {
     "data": {
      "text/plain": [
       "5976432"
      ]
     },
     "execution_count": 7,
     "metadata": {},
     "output_type": "execute_result"
    }
   ],
   "source": [
    "len(input_hamiltonian)"
   ]
  },
  {
   "cell_type": "markdown",
   "metadata": {},
   "source": [
    "# Hamiltonian"
   ]
  },
  {
   "cell_type": "code",
   "execution_count": 8,
   "metadata": {},
   "outputs": [],
   "source": [
    "k_grid = np.ones(shape=(12,3))"
   ]
  },
  {
   "cell_type": "code",
   "execution_count": 9,
   "metadata": {},
   "outputs": [
    {
     "name": "stdout",
     "output_type": "stream",
     "text": [
      "Hamiltonian 1 K-point berhasil digenerate. 333.36360597610474 Detik\n",
      "333.3769438266754 s\n",
      "(-0.0652039559955847-0.0007899319126766398j) (-0.0652039559955847+0.0007899319126766415j)\n"
     ]
    }
   ],
   "source": [
    "start = time.time()\n",
    "ham = hamiltonian(k_grid[0], input_hamiltonian)\n",
    "print((time.time() - start), \"s\")\n",
    "\n",
    "print(ham[3,13], ham[13,3])"
   ]
  },
  {
   "cell_type": "code",
   "execution_count": null,
   "metadata": {},
   "outputs": [],
   "source": []
  },
  {
   "cell_type": "code",
   "execution_count": 10,
   "metadata": {},
   "outputs": [
    {
     "name": "stdout",
     "output_type": "stream",
     "text": [
      "57.488518476486206 s\n",
      "(-0.06520395599558465-0.0007899319126766331j) (-0.06520395599558462+0.0007899319126766354j)\n"
     ]
    }
   ],
   "source": [
    "start = time.time()\n",
    "ham = hamiltonian_v2(k_grid[0], input_hamiltonian)\n",
    "print((time.time() - start), \"s\")\n",
    "\n",
    "print(ham[3,13], ham[13,3])"
   ]
  },
  {
   "cell_type": "code",
   "execution_count": null,
   "metadata": {},
   "outputs": [],
   "source": []
  },
  {
   "cell_type": "code",
   "execution_count": 11,
   "metadata": {},
   "outputs": [
    {
     "name": "stdout",
     "output_type": "stream",
     "text": [
      "23.140385389328003 s\n",
      "(-0.06520395599558465-0.0007899319126766331j) (-0.06520395599558462+0.0007899319126766354j)\n"
     ]
    }
   ],
   "source": [
    "start = time.time()\n",
    "ham = hamiltonian_v3(k_grid[0], input_hamiltonian)\n",
    "print((time.time() - start), \"s\")\n",
    "\n",
    "print(ham[3,13], ham[13,3])"
   ]
  },
  {
   "cell_type": "markdown",
   "metadata": {},
   "source": [
    "# Multiple Hamiltonian"
   ]
  },
  {
   "cell_type": "code",
   "execution_count": 9,
   "metadata": {},
   "outputs": [
    {
     "name": "stdout",
     "output_type": "stream",
     "text": [
      "Using  3 Processes\n",
      "257.11468982696533 s\n",
      "(-0.06520395599558465-0.0007899319126766331j) (-0.06520395599558462+0.0007899319126766354j)\n"
     ]
    }
   ],
   "source": [
    "start = time.time()\n",
    "ham = multiple_hamiltonian(k_grid, input_hamiltonian, hamiltonian_v2, num_process=3)\n",
    "print((time.time() - start), \"s\")\n",
    "\n",
    "print(ham[0,3,13], ham[0,13,3])"
   ]
  },
  {
   "cell_type": "code",
   "execution_count": 10,
   "metadata": {},
   "outputs": [
    {
     "name": "stdout",
     "output_type": "stream",
     "text": [
      "Using  3 Processes\n",
      "110.1421594619751 s\n",
      "(-0.06520395599558465-0.0007899319126766331j) (-0.06520395599558462+0.0007899319126766354j)\n"
     ]
    }
   ],
   "source": [
    "start = time.time()\n",
    "ham = multiple_hamiltonian(k_grid, input_hamiltonian, hamiltonian_v3, num_process=3)\n",
    "print((time.time() - start), \"s\")\n",
    "\n",
    "print(ham[0,3,13], ham[0,13,3])"
   ]
  }
 ],
 "metadata": {
  "kernelspec": {
   "display_name": "Python 3",
   "language": "python",
   "name": "python3"
  },
  "language_info": {
   "codemirror_mode": {
    "name": "ipython",
    "version": 3
   },
   "file_extension": ".py",
   "mimetype": "text/x-python",
   "name": "python",
   "nbconvert_exporter": "python",
   "pygments_lexer": "ipython3",
   "version": "3.6.7"
  }
 },
 "nbformat": 4,
 "nbformat_minor": 4
}
